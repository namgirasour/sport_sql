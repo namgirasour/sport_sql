{
 "cells": [
  {
   "cell_type": "code",
   "execution_count": null,
   "id": "b2819313-59f8-4f93-aa3a-8a029adb24b7",
   "metadata": {},
   "outputs": [],
   "source": [
    "## 1. Count of each data  \n",
    "\n",
    "\n",
    "\n"
   ]
  },
  {
   "cell_type": "code",
   "execution_count": 1,
   "id": "77caa65b-3e97-4145-a475-b6e9eb715cff",
   "metadata": {},
   "outputs": [
    {
     "name": "stderr",
     "output_type": "stream",
     "text": [
      "UsageError: Cell magic `%%sql` not found.\n"
     ]
    }
   ],
   "source": [
    "%%sql\n",
    "postgresql:///sports\n",
    "\n",
    "SELECT COUNT(*) AS total_rows, \n",
    "    COUNT(i.description) AS count_description, \n",
    "    COUNT(f.listing_price) AS count_listing_price, \n",
    "    COUNT(t.last_visited) AS count_last_visited \n",
    "FROM info AS i\n",
    "INNER JOIN finance AS f\n",
    "    ON i.product_id = f.product_id\n",
    "INNER JOIN traffic AS t\n",
    "    ON t.product_id = f.product_id;"
   ]
  },
  {
   "cell_type": "code",
   "execution_count": null,
   "id": "6cfaa2aa-3547-4c53-b76a-db2cc3c0311e",
   "metadata": {},
   "outputs": [],
   "source": [
    "## 2. Nike vs Adidas pricing\n",
    "<p>How do the price points of Nike and Adidas products differ? <p>"
   ]
  },
  {
   "cell_type": "code",
   "execution_count": null,
   "id": "35a4f997-02a9-4fc2-96a5-f59b507fb375",
   "metadata": {},
   "outputs": [],
   "source": [
    "%%sql\n",
    "\n",
    "SELECT b.brand, f.listing_price::integer, COUNT(f.*)\n",
    "FROM finance AS f\n",
    "INNER JOIN brands AS b\n",
    "    ON f.product_id = b.product_id\n",
    "WHERE listing_price > 0\n",
    "GROUP BY b.brand, f.listing_price\n",
    "ORDER BY listing_price DESC;\n"
   ]
  },
  {
   "cell_type": "code",
   "execution_count": null,
   "id": "16330d51-1b73-48c3-bba2-e15f05d5d386",
   "metadata": {},
   "outputs": [],
   "source": [
    "## 3. Assigning labels to different price ranges, grouping by brand and label"
   ]
  },
  {
   "cell_type": "code",
   "execution_count": null,
   "id": "34ec49e3-66a8-4c2d-80d1-4a98f22977e8",
   "metadata": {},
   "outputs": [],
   "source": [
    "%%sql\n",
    "\n",
    "SELECT b.brand, COUNT(f.*), SUM(f.revenue) as total_revenue,\n",
    "CASE WHEN f.listing_price < 42 THEN 'Budget'\n",
    "    WHEN f.listing_price >= 42 AND f.listing_price < 74 THEN 'Average'\n",
    "    WHEN f.listing_price >= 74 AND f.listing_price < 129 THEN 'Expensive'\n",
    "    ELSE 'Elite' END AS price_category\n",
    "FROM finance AS f\n",
    "INNER JOIN brands AS b \n",
    "    ON f.product_id = b.product_id\n",
    "WHERE b.brand IS NOT NULL\n",
    "GROUP BY b.brand, price_category\n",
    "ORDER BY total_revenue DESC;"
   ]
  },
  {
   "cell_type": "code",
   "execution_count": null,
   "id": "4480fa04-d481-43b8-831a-6953ef1cd4e9",
   "metadata": {},
   "outputs": [],
   "source": [
    "## 4. Average discount by brand "
   ]
  },
  {
   "cell_type": "code",
   "execution_count": null,
   "id": "5ded9ef1-0f56-4424-9105-23da49cfdea2",
   "metadata": {},
   "outputs": [],
   "source": [
    "%%sql\n",
    "\n",
    "SELECT b.brand, AVG(f.discount) * 100 AS average_discount\n",
    "FROM brands AS b\n",
    "INNER JOIN finance AS f \n",
    "    ON b.product_id = f.product_id\n",
    "GROUP BY b.brand\n",
    "HAVING b.brand IS NOT NULL\n",
    "ORDER BY average_discount;"
   ]
  },
  {
   "cell_type": "code",
   "execution_count": null,
   "id": "1bce2aa7-3915-4f53-abba-40e87b28356e",
   "metadata": {},
   "outputs": [],
   "source": [
    "## 5. Relationship between Revenue"
   ]
  },
  {
   "cell_type": "code",
   "execution_count": null,
   "id": "4f19b0f2-41fa-4dbf-bb24-c453ae1e716b",
   "metadata": {},
   "outputs": [],
   "source": [
    "%%sql\n",
    "SELECT corr(r.reviews, f.revenue) AS review_revenue_corr\n",
    "FROM reviews AS r\n",
    "INNER JOIN finance AS f \n",
    "    ON r.product_id = f.product_id;"
   ]
  },
  {
   "cell_type": "code",
   "execution_count": null,
   "id": "34ce89b8-a7d1-4b76-99c4-08aefa1b8b3d",
   "metadata": {},
   "outputs": [],
   "source": [
    "## 6. Volume of reviews by month"
   ]
  },
  {
   "cell_type": "code",
   "execution_count": null,
   "id": "320ff3af-9775-4403-ba26-d01c271c4b52",
   "metadata": {},
   "outputs": [],
   "source": [
    "%%sql\n",
    "\n",
    "SELECT b.brand, DATE_PART('month', t.last_visited) AS month, COUNT(r.*) AS num_reviews\n",
    "FROM brands AS b\n",
    "INNER JOIN traffic AS t \n",
    "    ON b.product_id = t.product_id\n",
    "INNER JOIN reviews AS r \n",
    "    ON t.product_id = r.product_id\n",
    "GROUP BY b.brand, month\n",
    "HAVING b.brand IS NOT NULL\n",
    "    AND DATE_PART('month', t.last_visited) IS NOT NULL\n",
    "ORDER BY b.brand, month;"
   ]
  },
  {
   "cell_type": "code",
   "execution_count": null,
   "id": "b8a8f9e4-8272-4ff7-987f-24e9d7c02ea9",
   "metadata": {},
   "outputs": [],
   "source": [
    "## 7. Footwear product performance"
   ]
  },
  {
   "cell_type": "code",
   "execution_count": null,
   "id": "e6551529-8010-4e6e-9890-630794a17da8",
   "metadata": {},
   "outputs": [],
   "source": [
    "%%sql\n",
    "\n",
    "WITH footwear AS\n",
    "(\n",
    "    SELECT i.description, f.revenue\n",
    "    FROM info AS i\n",
    "    INNER JOIN finance AS f \n",
    "        ON i.product_id = f.product_id\n",
    "    WHERE i.description ILIKE '%shoe%'\n",
    "        OR i.description ILIKE '%trainer%'\n",
    "        OR i.description ILIKE '%foot%'\n",
    "        AND i.description IS NOT NULL\n",
    ")\n",
    "\n",
    "SELECT COUNT(*) AS num_footwear_products, \n",
    "    percentile_disc(0.5) WITHIN GROUP (ORDER BY revenue) AS median_footwear_revenue\n",
    "FROM footwear"
   ]
  },
  {
   "cell_type": "code",
   "execution_count": null,
   "id": "2b5ab477-e728-4e41-af0c-f31d44650cef",
   "metadata": {},
   "outputs": [],
   "source": [
    "## 8. Clothing product performance"
   ]
  },
  {
   "cell_type": "code",
   "execution_count": null,
   "id": "3d4becd3-e44c-4fee-8304-5c6de49f1ab2",
   "metadata": {},
   "outputs": [],
   "source": [
    "%%sql\n",
    "\n",
    "WITH footwear AS\n",
    "(\n",
    "    SELECT i.description, f.revenue\n",
    "    FROM info AS i\n",
    "    INNER JOIN finance AS f \n",
    "        ON i.product_id = f.product_id\n",
    "    WHERE i.description ILIKE '%shoe%'\n",
    "        OR i.description ILIKE '%trainer%'\n",
    "        OR i.description ILIKE '%foot%'\n",
    "        AND i.description IS NOT NULL\n",
    ")\n",
    "\n",
    "SELECT COUNT(i.*) AS num_clothing_products, \n",
    "    percentile_disc(0.5) WITHIN GROUP (ORDER BY f.revenue) AS median_clothing_revenue\n",
    "FROM info AS i\n",
    "INNER JOIN finance AS f on i.product_id = f.product_id\n",
    "WHERE i.description NOT IN (SELECT description FROM footwear);"
   ]
  }
 ],
 "metadata": {
  "kernelspec": {
   "display_name": "Python 3 (ipykernel)",
   "language": "python",
   "name": "python3"
  },
  "language_info": {
   "codemirror_mode": {
    "name": "ipython",
    "version": 3
   },
   "file_extension": ".py",
   "mimetype": "text/x-python",
   "name": "python",
   "nbconvert_exporter": "python",
   "pygments_lexer": "ipython3",
   "version": "3.11.5"
  }
 },
 "nbformat": 4,
 "nbformat_minor": 5
}
